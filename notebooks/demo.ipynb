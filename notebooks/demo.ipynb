{
 "cells": [
  {
   "cell_type": "code",
   "execution_count": null,
   "id": "2d86ca2f",
   "metadata": {},
   "outputs": [],
   "source": [
    "%pip install --user 'git+https://github.com/stevenrbrandt/piraha-peg/#subdirectory=py/'"
   ]
  },
  {
   "cell_type": "code",
   "execution_count": null,
   "id": "f5b4b28f",
   "metadata": {},
   "outputs": [],
   "source": [
    "%pip install --user 'git+https://github.com/stevenrbrandt/pieshell/'"
   ]
  },
  {
   "cell_type": "code",
   "execution_count": null,
   "id": "cc0f11a9",
   "metadata": {},
   "outputs": [],
   "source": [
    "from IPython.core.magic import register_cell_magic\n",
    "from pieshell import shell, ShellExit\n",
    "import sys\n",
    "s = shell()\n",
    "s.bind_to_env()\n",
    "@register_cell_magic\n",
    "def piebash(line, cell):\n",
    "    s.run_text(cell)"
   ]
  },
  {
   "cell_type": "code",
   "execution_count": null,
   "id": "cd4b6594",
   "metadata": {},
   "outputs": [],
   "source": [
    "%%piebash\n",
    "export C=Foo"
   ]
  },
  {
   "cell_type": "code",
   "execution_count": null,
   "id": "c7b73c26",
   "metadata": {},
   "outputs": [],
   "source": [
    "import os\n",
    "os.environ[\"C\"]"
   ]
  },
  {
   "cell_type": "code",
   "execution_count": null,
   "id": "ce17c4b4",
   "metadata": {},
   "outputs": [],
   "source": [
    "%%piebash\n",
    "ls | perl -p -e 's/e/E/g'"
   ]
  },
  {
   "cell_type": "code",
   "execution_count": null,
   "id": "3f001edc",
   "metadata": {},
   "outputs": [],
   "source": [
    "%%piebash\n",
    "for i in $(seq 1 10)\n",
    "do\n",
    "  echo $i\n",
    "done\n",
    "export i"
   ]
  },
  {
   "cell_type": "code",
   "execution_count": null,
   "id": "e902738b",
   "metadata": {},
   "outputs": [],
   "source": [
    "os.environ[\"i\"]"
   ]
  },
  {
   "cell_type": "code",
   "execution_count": null,
   "id": "ee437204",
   "metadata": {},
   "outputs": [],
   "source": [
    "try:\n",
    "    s.run_text(\"exit 33\")\n",
    "except ShellExit as se:\n",
    "    print(\"The shell exited with exit code:\",se.rc)"
   ]
  },
  {
   "cell_type": "code",
   "execution_count": null,
   "id": "318d0187",
   "metadata": {},
   "outputs": [],
   "source": []
  }
 ],
 "metadata": {
  "kernelspec": {
   "display_name": "Python 3 (ipykernel)",
   "language": "python",
   "name": "python3"
  },
  "language_info": {
   "codemirror_mode": {
    "name": "ipython",
    "version": 3
   },
   "file_extension": ".py",
   "mimetype": "text/x-python",
   "name": "python",
   "nbconvert_exporter": "python",
   "pygments_lexer": "ipython3",
   "version": "3.8.10"
  }
 },
 "nbformat": 4,
 "nbformat_minor": 5
}
