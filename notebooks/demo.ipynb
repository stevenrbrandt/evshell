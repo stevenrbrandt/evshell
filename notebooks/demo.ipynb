{
 "cells": [
  {
   "cell_type": "code",
   "execution_count": 1,
   "id": "ffda0fda",
   "metadata": {},
   "outputs": [
    {
     "name": "stdout",
     "output_type": "stream",
     "text": [
      "Requirement already satisfied: evshell in /mnt/c/Users/steve/.local/lib/python3.8/site-packages/evshell-0.0.6-py3.8.egg (0.0.6)\n",
      "Requirement already satisfied: piraha in /mnt/c/Users/steve/.local/lib/python3.8/site-packages/Piraha-1.0.0-py3.8.egg (from evshell) (1.0.0)\n",
      "Note: you may need to restart the kernel to use updated packages.\n"
     ]
    }
   ],
   "source": [
    "%pip install --user evshell"
   ]
  },
  {
   "cell_type": "code",
   "execution_count": 2,
   "id": "fade6deb",
   "metadata": {},
   "outputs": [],
   "source": [
    "from IPython.core.magic import register_cell_magic\n",
    "from evshell import shell, ShellExit\n",
    "import sys\n",
    "s = shell()\n",
    "s.bind_to_env()\n",
    "@register_cell_magic\n",
    "def evshell(line, cell):\n",
    "    s.run_text(cell)"
   ]
  },
  {
   "cell_type": "code",
   "execution_count": 3,
   "id": "860b30a8",
   "metadata": {},
   "outputs": [
    {
     "name": "stdout",
     "output_type": "stream",
     "text": [
      "EVSHELL: 0.0.6\n",
      "\u001b[31m\u001b[0m"
     ]
    }
   ],
   "source": [
    "%%evshell\n",
    "export VAR1=Foo\n",
    "VAR2=Bar\n",
    "echo \"EVSHELL: ${EVSHELL}\""
   ]
  },
  {
   "cell_type": "code",
   "execution_count": 4,
   "id": "5b4d89bf",
   "metadata": {},
   "outputs": [],
   "source": [
    "#Install a python function in bash\n",
    "def echo2(a,b):\n",
    "    print(f\"{a} then {b}\")\n",
    "s.pyfuncs[\"echo2\"] = echo2"
   ]
  },
  {
   "cell_type": "code",
   "execution_count": 5,
   "id": "249c414e",
   "metadata": {},
   "outputs": [
    {
     "name": "stdout",
     "output_type": "stream",
     "text": [
      "a then b\n",
      "3 then 4\n",
      "\u001b[31m\u001b[0m"
     ]
    }
   ],
   "source": [
    "%%evshell\n",
    "echo2 a b\n",
    "echo2 3 4"
   ]
  },
  {
   "cell_type": "code",
   "execution_count": 6,
   "id": "cb5a3ae9",
   "metadata": {},
   "outputs": [
    {
     "name": "stdout",
     "output_type": "stream",
     "text": [
      "env var1: Foo env var2: None var1: Foo var2: Bar\n"
     ]
    }
   ],
   "source": [
    "import os\n",
    "print(\"env var1:\",os.environ.get(\"VAR1\",None),end=' ')\n",
    "print(\"env var2:\",os.environ.get(\"VAR2\",None),end=' ')\n",
    "print(\"var1:\",s.get_var(\"VAR1\"),end=' ')\n",
    "print(\"var2:\",s.get_var(\"VAR2\"))"
   ]
  },
  {
   "cell_type": "code",
   "execution_count": 7,
   "id": "281c2eaa",
   "metadata": {},
   "outputs": [
    {
     "name": "stdout",
     "output_type": "stream",
     "text": [
      "dEmo.ipynb\n",
      "UntitlEd.ipynb\n",
      "\u001b[31m\u001b[0m"
     ]
    }
   ],
   "source": [
    "%%evshell\n",
    "ls | perl -p -e 's/e/E/g'"
   ]
  },
  {
   "cell_type": "code",
   "execution_count": 8,
   "id": "59469898",
   "metadata": {},
   "outputs": [],
   "source": [
    "s.set_var(\"XX\",\"33\")"
   ]
  },
  {
   "cell_type": "code",
   "execution_count": 9,
   "id": "81f55e68",
   "metadata": {},
   "outputs": [
    {
     "name": "stdout",
     "output_type": "stream",
     "text": [
      "XX: 33\n",
      "\u001b[31m\u001b[0m"
     ]
    }
   ],
   "source": [
    "%%evshell\n",
    "echo XX: $XX\n",
    "YY=22"
   ]
  },
  {
   "cell_type": "code",
   "execution_count": 10,
   "id": "52110612",
   "metadata": {},
   "outputs": [
    {
     "data": {
      "text/plain": [
       "'22'"
      ]
     },
     "execution_count": 10,
     "metadata": {},
     "output_type": "execute_result"
    }
   ],
   "source": [
    "s.get_var(\"YY\")"
   ]
  },
  {
   "cell_type": "code",
   "execution_count": 11,
   "id": "e9183197",
   "metadata": {},
   "outputs": [
    {
     "name": "stdout",
     "output_type": "stream",
     "text": [
      "1\n",
      "2\n",
      "3\n",
      "4\n",
      "5\n",
      "6\n",
      "7\n",
      "8\n",
      "9\n",
      "10\n",
      "\u001b[31m\u001b[0m"
     ]
    }
   ],
   "source": [
    "%%evshell\n",
    "for i in $(seq 1 10)\n",
    "do\n",
    "  echo $i\n",
    "done\n",
    "export i"
   ]
  },
  {
   "cell_type": "code",
   "execution_count": 12,
   "id": "ecb4ae64",
   "metadata": {},
   "outputs": [
    {
     "data": {
      "text/plain": [
       "'10'"
      ]
     },
     "execution_count": 12,
     "metadata": {},
     "output_type": "execute_result"
    }
   ],
   "source": [
    "os.environ[\"i\"]"
   ]
  },
  {
   "cell_type": "code",
   "execution_count": 13,
   "id": "33997888",
   "metadata": {},
   "outputs": [
    {
     "name": "stdout",
     "output_type": "stream",
     "text": [
      "\u001b[31m\u001b[0mThe shell exited with exit code: 33\n"
     ]
    }
   ],
   "source": [
    "try:\n",
    "    s.run_text(\"exit 33\")\n",
    "except ShellExit as se:\n",
    "    print(\"The shell exited with exit code:\",se.rc)"
   ]
  },
  {
   "cell_type": "code",
   "execution_count": null,
   "id": "d2788479",
   "metadata": {},
   "outputs": [],
   "source": []
  }
 ],
 "metadata": {
  "kernelspec": {
   "display_name": "Python 3 (ipykernel)",
   "language": "python",
   "name": "python3"
  },
  "language_info": {
   "codemirror_mode": {
    "name": "ipython",
    "version": 3
   },
   "file_extension": ".py",
   "mimetype": "text/x-python",
   "name": "python",
   "nbconvert_exporter": "python",
   "pygments_lexer": "ipython3",
   "version": "3.8.10"
  }
 },
 "nbformat": 4,
 "nbformat_minor": 5
}
