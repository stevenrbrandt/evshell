{
 "cells": [
  {
   "cell_type": "code",
   "execution_count": null,
   "id": "2d86ca2f",
   "metadata": {},
   "outputs": [],
   "source": [
    "%pip install --user 'git+https://github.com/stevenrbrandt/piraha-peg/#subdirectory=py/'"
   ]
  },
  {
   "cell_type": "code",
   "execution_count": null,
   "id": "f5b4b28f",
   "metadata": {},
   "outputs": [],
   "source": [
    "%pip install --user sshell
   ]
  },
  {
   "cell_type": "code",
   "execution_count": null,
   "id": "cc0f11a9",
   "metadata": {},
   "outputs": [],
   "source": [
    "from IPython.core.magic import register_cell_magic\n",
    "from sshell import shell, ShellExit\n",
    "import sys\n",
    "s = shell()\n",
    "s.bind_to_env()\n",
    "@register_cell_magic\n",
    "def sshell(line, cell):\n",
    "    s.run_text(cell)"
   ]
  },
  {
   "cell_type": "code",
   "execution_count": null,
   "id": "cd4b6594",
   "metadata": {},
   "outputs": [],
   "source": [
    "%%sshell\n",
    "export VAR1=Foo\n",
    "VAR2=Bar\n",
    "echo \"SSHELL: ${SSHELL}\""
   ]
  },
  {
   "cell_type": "code",
   "execution_count": null,
   "id": "9c7ea613",
   "metadata": {},
   "outputs": [],
   "source": [
    "#Install a python function in bash\n",
    "def echo2(a,b):\n",
    "    print(f\"{a} then {b}\")\n",
    "s.pyfuncs[\"echo2\"] = echo2"
   ]
  },
  {
   "cell_type": "code",
   "execution_count": null,
   "id": "541d4dc6",
   "metadata": {},
   "outputs": [],
   "source": [
    "%%sshell\n",
    "echo2 a b\n",
    "echo2 3 4"
   ]
  },
  {
   "cell_type": "code",
   "execution_count": null,
   "id": "c7b73c26",
   "metadata": {},
   "outputs": [],
   "source": [
    "import os\n",
    "print(\"env var1:\",os.environ.get(\"VAR1\",None),end=' ')\n",
    "print(\"env var2:\",os.environ.get(\"VAR2\",None),end=' ')\n",
    "print(\"var1:\",s.get_var(\"VAR1\"),end=' ')\n",
    "print(\"var2:\",s.get_var(\"VAR2\"))"
   ]
  },
  {
   "cell_type": "code",
   "execution_count": null,
   "id": "ce17c4b4",
   "metadata": {},
   "outputs": [],
   "source": [
    "%%sshell\n",
    "ls | perl -p -e 's/e/E/g'"
   ]
  },
  {
   "cell_type": "code",
   "execution_count": null,
   "id": "4c517654",
   "metadata": {},
   "outputs": [],
   "source": [
    "s.set_var(\"XX\",\"33\")"
   ]
  },
  {
   "cell_type": "code",
   "execution_count": null,
   "id": "1ff6fcbb",
   "metadata": {},
   "outputs": [],
   "source": [
    "%%sshell\n",
    "echo XX: $XX\n",
    "YY=22"
   ]
  },
  {
   "cell_type": "code",
   "execution_count": null,
   "id": "296e657a",
   "metadata": {},
   "outputs": [],
   "source": [
    "s.get_var(\"YY\")"
   ]
  },
  {
   "cell_type": "code",
   "execution_count": null,
   "id": "3f001edc",
   "metadata": {},
   "outputs": [],
   "source": [
    "%%sshell\n",
    "for i in $(seq 1 10)\n",
    "do\n",
    "  echo $i\n",
    "done\n",
    "export i"
   ]
  },
  {
   "cell_type": "code",
   "execution_count": null,
   "id": "e902738b",
   "metadata": {},
   "outputs": [],
   "source": [
    "os.environ[\"i\"]"
   ]
  },
  {
   "cell_type": "code",
   "execution_count": null,
   "id": "ee437204",
   "metadata": {},
   "outputs": [],
   "source": [
    "try:\n",
    "    s.run_text(\"exit 33\")\n",
    "except ShellExit as se:\n",
    "    print(\"The shell exited with exit code:\",se.rc)"
   ]
  },
  {
   "cell_type": "code",
   "execution_count": null,
   "id": "318d0187",
   "metadata": {},
   "outputs": [],
   "source": []
  }
 ],
 "metadata": {
  "kernelspec": {
   "display_name": "Python 3 (ipykernel)",
   "language": "python",
   "name": "python3"
  },
  "language_info": {
   "codemirror_mode": {
    "name": "ipython",
    "version": 3
   },
   "file_extension": ".py",
   "mimetype": "text/x-python",
   "name": "python",
   "nbconvert_exporter": "python",
   "pygments_lexer": "ipython3",
   "version": "3.8.10"
  }
 },
 "nbformat": 4,
 "nbformat_minor": 5
}
