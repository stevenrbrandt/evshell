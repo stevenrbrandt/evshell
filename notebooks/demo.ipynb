{
 "cells": [
  {
   "cell_type": "code",
   "execution_count": null,
   "id": "2d86ca2f",
   "metadata": {},
   "outputs": [],
   "source": [
    "%pip install --user 'git+https://github.com/stevenrbrandt/piraha-peg/#subdirectory=py/'"
   ]
  },
  {
   "cell_type": "code",
   "execution_count": null,
   "id": "f5b4b28f",
   "metadata": {},
   "outputs": [],
   "source": [
    "%pip install --user 'git+https://github.com/stevenrbrandt/pieshell/'"
   ]
  },
  {
   "cell_type": "code",
   "execution_count": 1,
   "id": "cc0f11a9",
   "metadata": {},
   "outputs": [],
   "source": [
    "from IPython.core.magic import register_cell_magic\n",
    "from pieshell import shell, ShellExit\n",
    "import sys\n",
    "s = shell()\n",
    "s.bind_to_env()\n",
    "@register_cell_magic\n",
    "def piebash(line, cell):\n",
    "    s.run_text(cell)"
   ]
  },
  {
   "cell_type": "code",
   "execution_count": 14,
   "id": "cd4b6594",
   "metadata": {},
   "outputs": [
    {
     "name": "stdout",
     "output_type": "stream",
     "text": [
      "PIESHELL: 0.0.5\n",
      "\u001b[31m\u001b[0m"
     ]
    }
   ],
   "source": [
    "%%piebash\n",
    "export VAR1=Foo\n",
    "VAR2=Bar\n",
    "echo \"PIESHELL: ${PIESHELL}\""
   ]
  },
  {
   "cell_type": "code",
   "execution_count": 17,
   "id": "c7b73c26",
   "metadata": {},
   "outputs": [
    {
     "name": "stdout",
     "output_type": "stream",
     "text": [
      "env var1: Foo env var2: None var1: Foo var2: Bar\n"
     ]
    }
   ],
   "source": [
    "import os\n",
    "print(\"env var1:\",os.environ.get(\"VAR1\",None),end=' ')\n",
    "print(\"env var2:\",os.environ.get(\"VAR2\",None),end=' ')\n",
    "print(\"var1:\",s.get_var(\"VAR1\"),end=' ')\n",
    "print(\"var2:\",s.get_var(\"VAR2\"))"
   ]
  },
  {
   "cell_type": "code",
   "execution_count": 6,
   "id": "ce17c4b4",
   "metadata": {},
   "outputs": [
    {
     "name": "stdout",
     "output_type": "stream",
     "text": [
      "dEmo.ipynb\n",
      "\u001b[31m\u001b[0m"
     ]
    }
   ],
   "source": [
    "%%piebash\n",
    "ls | perl -p -e 's/e/E/g'"
   ]
  },
  {
   "cell_type": "code",
   "execution_count": 7,
   "id": "4c517654",
   "metadata": {},
   "outputs": [],
   "source": [
    "s.set_var(\"XX\",\"33\")"
   ]
  },
  {
   "cell_type": "code",
   "execution_count": 8,
   "id": "1ff6fcbb",
   "metadata": {},
   "outputs": [
    {
     "name": "stdout",
     "output_type": "stream",
     "text": [
      "XX: 33\n",
      "\u001b[31m\u001b[0m"
     ]
    }
   ],
   "source": [
    "%%piebash\n",
    "echo XX: $XX\n",
    "YY=22"
   ]
  },
  {
   "cell_type": "code",
   "execution_count": 9,
   "id": "296e657a",
   "metadata": {},
   "outputs": [
    {
     "data": {
      "text/plain": [
       "'22'"
      ]
     },
     "execution_count": 9,
     "metadata": {},
     "output_type": "execute_result"
    }
   ],
   "source": [
    "s.get_var(\"YY\")"
   ]
  },
  {
   "cell_type": "code",
   "execution_count": 10,
   "id": "3f001edc",
   "metadata": {},
   "outputs": [
    {
     "name": "stdout",
     "output_type": "stream",
     "text": [
      "1\n",
      "2\n",
      "3\n",
      "4\n",
      "5\n",
      "6\n",
      "7\n",
      "8\n",
      "9\n",
      "10\n",
      "\u001b[31m\u001b[0m"
     ]
    }
   ],
   "source": [
    "%%piebash\n",
    "for i in $(seq 1 10)\n",
    "do\n",
    "  echo $i\n",
    "done\n",
    "export i"
   ]
  },
  {
   "cell_type": "code",
   "execution_count": 11,
   "id": "e902738b",
   "metadata": {},
   "outputs": [
    {
     "data": {
      "text/plain": [
       "'10'"
      ]
     },
     "execution_count": 11,
     "metadata": {},
     "output_type": "execute_result"
    }
   ],
   "source": [
    "os.environ[\"i\"]"
   ]
  },
  {
   "cell_type": "code",
   "execution_count": 12,
   "id": "ee437204",
   "metadata": {},
   "outputs": [
    {
     "name": "stdout",
     "output_type": "stream",
     "text": [
      "\u001b[31m\u001b[0mThe shell exited with exit code: 33\n"
     ]
    }
   ],
   "source": [
    "try:\n",
    "    s.run_text(\"exit 33\")\n",
    "except ShellExit as se:\n",
    "    print(\"The shell exited with exit code:\",se.rc)"
   ]
  },
  {
   "cell_type": "code",
   "execution_count": null,
   "id": "318d0187",
   "metadata": {},
   "outputs": [],
   "source": []
  }
 ],
 "metadata": {
  "kernelspec": {
   "display_name": "Python 3 (ipykernel)",
   "language": "python",
   "name": "python3"
  },
  "language_info": {
   "codemirror_mode": {
    "name": "ipython",
    "version": 3
   },
   "file_extension": ".py",
   "mimetype": "text/x-python",
   "name": "python",
   "nbconvert_exporter": "python",
   "pygments_lexer": "ipython3",
   "version": "3.8.10"
  }
 },
 "nbformat": 4,
 "nbformat_minor": 5
}
